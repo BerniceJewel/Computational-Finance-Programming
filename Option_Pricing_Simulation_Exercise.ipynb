{
  "nbformat": 4,
  "nbformat_minor": 0,
  "metadata": {
    "colab": {
      "provenance": [],
      "authorship_tag": "ABX9TyNgjUfTbxRMyJshOqqDvtlF",
      "include_colab_link": true
    },
    "kernelspec": {
      "name": "python3",
      "display_name": "Python 3"
    },
    "language_info": {
      "name": "python"
    }
  },
  "cells": [
    {
      "cell_type": "markdown",
      "metadata": {
        "id": "view-in-github",
        "colab_type": "text"
      },
      "source": [
        "<a href=\"https://colab.research.google.com/github/BerniceJewel/Computational-Finance-Programming/blob/main/Option_Pricing_Simulation_Exercise.ipynb\" target=\"_parent\"><img src=\"https://colab.research.google.com/assets/colab-badge.svg\" alt=\"Open In Colab\"/></a>"
      ]
    },
    {
      "cell_type": "code",
      "source": [
        "import numpy as np\n",
        "#Pricing a European call option\n",
        "# Parameters\n",
        "S0 = 5  # Initial stock price\n",
        "K = 5   # Strike price\n",
        "# K = S0 (ATM OPTION)\n",
        "T = 1    # Time to maturity (1 year)\n",
        "r = 0.06 # Risk-free interest rate (6%)\n",
        "sigma = 0.3  # Volatility (assumed 30%)\n",
        "n_steps=1000 # Monte Carlo time steps\n"
      ],
      "metadata": {
        "id": "Vk0dKURZcepW"
      },
      "execution_count": 90,
      "outputs": []
    },
    {
      "cell_type": "code",
      "source": [
        "# Euler scheme for Monte Carlo simulation\n",
        "def euler_call_option_price(S0, K, T, r, sigma, n_paths,n_steps):\n",
        "    np.random.seed(0)\n",
        "    dt = T / n_steps\n",
        "    prices = np.zeros(n_paths)\n",
        "\n",
        "    for i in range(n_paths):\n",
        "        S = S0\n",
        "        for _ in range(n_steps):\n",
        "            S += r * S * dt + sigma * S * np.sqrt(dt) * np.random.randn()\n",
        "        prices[i] = max(S - K, 0)\n",
        "\n",
        "    call_price = np.exp(-r * T) * np.mean(prices)\n",
        "    return call_price"
      ],
      "metadata": {
        "id": "mwFBVq1NxxB3"
      },
      "execution_count": 91,
      "outputs": []
    },
    {
      "cell_type": "code",
      "source": [
        "# Milstein scheme for Monte Carlo simulation\n",
        "def milstein_call_option_price(S0, K, T, r, sigma, n_paths, n_steps):\n",
        "    np.random.seed(0)\n",
        "    dt = T / n_steps\n",
        "    prices = np.zeros(n_paths)\n",
        "\n",
        "    for i in range(n_paths):\n",
        "        S = S0\n",
        "        for _ in range(n_steps):\n",
        "            dW = np.sqrt(dt) * np.random.randn()\n",
        "            S += r * S * dt + sigma * S * dW + 0.5 * sigma**2 * S * (dW**2 - dt)\n",
        "        prices[i] = max(S - K, 0)\n",
        "\n",
        "    call_price = np.exp(-r * T) * np.mean(prices)\n",
        "    return call_price"
      ],
      "metadata": {
        "id": "qRs5iFNQ1V0e"
      },
      "execution_count": 92,
      "outputs": []
    },
    {
      "cell_type": "code",
      "source": [
        "# Example using Euler\n",
        "n_paths = 100\n",
        "call_price_euler = euler_call_option_price(S0, K, T, r, sigma, n_paths,n_steps)\n",
        "print(f\"Euler Scheme Call Option Price: {call_price_euler:.2f}\")\n",
        "\n",
        "# Example using Milstein\n",
        "n_paths = 100\n",
        "call_price_milstein = milstein_call_option_price(S0, K, T, r, sigma, n_paths, n_steps)\n",
        "print(f\"Milstein Scheme Call Option Price: {call_price_milstein:.2f}\")"
      ],
      "metadata": {
        "colab": {
          "base_uri": "https://localhost:8080/"
        },
        "id": "BMl5qVvhxxbZ",
        "outputId": "8157ee68-cc5c-4439-8df2-c59fc017546d"
      },
      "execution_count": 74,
      "outputs": [
        {
          "output_type": "stream",
          "name": "stdout",
          "text": [
            "Euler Scheme Call Option Price: 0.72\n",
            "Milstein Scheme Call Option Price: 0.72\n"
          ]
        }
      ]
    },
    {
      "cell_type": "code",
      "source": [
        "# Example using Euler\n",
        "n_paths = 1000\n",
        "call_price_euler = euler_call_option_price(S0, K, T, r, sigma, n_paths,n_steps)\n",
        "print(f\"Euler Scheme Call Option Price: {call_price_euler:.2f}\")\n",
        "\n",
        "# Example using Milstein\n",
        "n_paths = 1000\n",
        "call_price_milstein = milstein_call_option_price(S0, K, T, r, sigma, n_paths, n_steps)\n",
        "print(f\"Milstein Scheme Call Option Price: {call_price_milstein:.2f}\")"
      ],
      "metadata": {
        "colab": {
          "base_uri": "https://localhost:8080/"
        },
        "id": "xr2Kggo7xxln",
        "outputId": "7e22e0ab-ad1d-4496-cefa-f01a170289b7"
      },
      "execution_count": 75,
      "outputs": [
        {
          "output_type": "stream",
          "name": "stdout",
          "text": [
            "Euler Scheme Call Option Price: 0.78\n",
            "Milstein Scheme Call Option Price: 0.78\n"
          ]
        }
      ]
    },
    {
      "cell_type": "code",
      "source": [
        "# Example using Euler\n",
        "n_paths = 5000\n",
        "call_price_euler = euler_call_option_price(S0, K, T, r, sigma, n_paths, n_steps)\n",
        "print(f\"Euler Scheme Call Option Price: {call_price_euler:.2f}\")\n",
        "\n",
        "# Example using Milstein\n",
        "n_paths = 5000\n",
        "call_price_milstein = milstein_call_option_price(S0, K, T, r, sigma, n_paths, n_steps)\n",
        "print(f\"Milstein Scheme Call Option Price: {call_price_milstein:.2f}\")"
      ],
      "metadata": {
        "colab": {
          "base_uri": "https://localhost:8080/"
        },
        "id": "lttx_pokxxo4",
        "outputId": "27a4d898-6bef-4013-f5d1-49536c2a9d70"
      },
      "execution_count": 76,
      "outputs": [
        {
          "output_type": "stream",
          "name": "stdout",
          "text": [
            "Euler Scheme Call Option Price: 0.75\n",
            "Milstein Scheme Call Option Price: 0.75\n"
          ]
        }
      ]
    },
    {
      "cell_type": "code",
      "source": [
        "# Example using Euler\n",
        "n_paths = 10000\n",
        "call_price_euler = euler_call_option_price(S0, K, T, r, sigma, n_paths, n_steps)\n",
        "print(f\"Euler Scheme Call Option Price: {call_price_euler:.2f}\")\n",
        "\n",
        "# Example using Milstein\n",
        "n_paths = 10000\n",
        "call_price_milstein = milstein_call_option_price(S0, K, T, r, sigma, n_paths, n_steps)\n",
        "print(f\"Milstein Scheme Call Option Price: {call_price_milstein:.2f}\")"
      ],
      "metadata": {
        "colab": {
          "base_uri": "https://localhost:8080/"
        },
        "id": "AmqLWTrPxxsQ",
        "outputId": "02f73fd2-bf02-441c-f39d-4a34fffc3dc5"
      },
      "execution_count": 77,
      "outputs": [
        {
          "output_type": "stream",
          "name": "stdout",
          "text": [
            "Euler Scheme Call Option Price: 0.75\n",
            "Milstein Scheme Call Option Price: 0.75\n"
          ]
        }
      ]
    },
    {
      "cell_type": "code",
      "source": [
        "# Example using Euler\n",
        "n_paths = 50000\n",
        "call_price_euler = euler_call_option_price(S0, K, T, r, sigma, n_paths, n_steps)\n",
        "print(f\"Euler Scheme Call Option Price: {call_price_euler:.2f}\")\n",
        "\n",
        "# Example using Milstein\n",
        "n_paths = 50000\n",
        "call_price_milstein = milstein_call_option_price(S0, K, T, r, sigma, n_paths, n_steps)\n",
        "print(f\"Milstein Scheme Call Option Price: {call_price_milstein:.2f}\")"
      ],
      "metadata": {
        "colab": {
          "base_uri": "https://localhost:8080/"
        },
        "id": "wfuJWClhyZNa",
        "outputId": "86681a5c-9483-4adb-f124-157d3d17ed12"
      },
      "execution_count": 78,
      "outputs": [
        {
          "output_type": "stream",
          "name": "stdout",
          "text": [
            "Euler Scheme Call Option Price: 0.74\n",
            "Milstein Scheme Call Option Price: 0.74\n"
          ]
        }
      ]
    },
    {
      "cell_type": "code",
      "source": [
        "# Example using Euler\n",
        "n_paths = 100000\n",
        "call_price_euler = euler_call_option_price(S0, K, T, r, sigma, n_paths, n_steps)\n",
        "print(f\"Euler Scheme Call Option Price: {call_price_euler:.2f}\")\n",
        "\n",
        "# Example using Milstein\n",
        "n_paths = 100000\n",
        "call_price_milstein = milstein_call_option_price(S0, K, T, r, sigma, n_paths, n_steps)\n",
        "print(f\"Milstein Scheme Call Option Price: {call_price_milstein:.2f}\")"
      ],
      "metadata": {
        "colab": {
          "base_uri": "https://localhost:8080/"
        },
        "id": "Mj9zYtBYyZQ2",
        "outputId": "f2383fa7-3b65-4027-bc8b-d45224ffc82e"
      },
      "execution_count": 93,
      "outputs": [
        {
          "output_type": "stream",
          "name": "stdout",
          "text": [
            "Euler Scheme Call Option Price: 0.74\n",
            "Milstein Scheme Call Option Price: 0.74\n"
          ]
        }
      ]
    },
    {
      "cell_type": "code",
      "source": [
        "# Monte Carlo simulation\n",
        "#Pricing a European call option\n",
        "# Parameters\n",
        "S0 = 5  # Initial stock price\n",
        "K = 5   # Strike price\n",
        "# K = S0 (ATM OPTION)\n",
        "T = 1    # Time to maturity (1 year)\n",
        "r = 0.06 # Risk-free interest rate (6%)\n",
        "sigma = 0.3  # Volatility (assumed 30%)\n",
        "n_steps=1000\n",
        "\n",
        "def monte_carlo_call_option_price(S0, K, T, r, sigma, n_paths):\n",
        "    np.random.seed(0)\n",
        "    dt = T / n_paths\n",
        "    prices = np.zeros(n_paths)\n",
        "\n",
        "    for i in range(n_paths):\n",
        "        ST = S0 * np.exp((r - 0.5 * sigma**2) * T + sigma * np.sqrt(T) * np.random.randn())\n",
        "        prices[i] = max(ST - K, 0)\n",
        "\n",
        "    call_price = np.exp(-r * T) * np.mean(prices)\n",
        "    return call_price"
      ],
      "metadata": {
        "id": "bq2E4ZAvcesg"
      },
      "execution_count": 83,
      "outputs": []
    },
    {
      "cell_type": "code",
      "source": [
        "# Example usage\n",
        "n_paths = 100\n",
        "call_price = monte_carlo_call_option_price(S0, K, T, r, sigma, n_paths)\n",
        "print(f\"Monte Carlo Call Option Price: {call_price:.2f}\")"
      ],
      "metadata": {
        "colab": {
          "base_uri": "https://localhost:8080/"
        },
        "id": "WQ0k9YGxcevO",
        "outputId": "0131f988-5d52-4df9-cdf6-eef0b0153c00"
      },
      "execution_count": 84,
      "outputs": [
        {
          "output_type": "stream",
          "name": "stdout",
          "text": [
            "Monte Carlo Call Option Price: 0.81\n"
          ]
        }
      ]
    },
    {
      "cell_type": "code",
      "source": [
        "# Example usage\n",
        "n_paths = 1000\n",
        "call_price = monte_carlo_call_option_price(S0, K, T, r, sigma, n_paths)\n",
        "print(f\"Monte Carlo Call Option Price: {call_price:.2f}\")"
      ],
      "metadata": {
        "colab": {
          "base_uri": "https://localhost:8080/"
        },
        "id": "NnBqwWdBcex1",
        "outputId": "093aa8c7-36bf-4f8a-943a-555617abd2ed"
      },
      "execution_count": 85,
      "outputs": [
        {
          "output_type": "stream",
          "name": "stdout",
          "text": [
            "Monte Carlo Call Option Price: 0.68\n"
          ]
        }
      ]
    },
    {
      "cell_type": "code",
      "source": [
        "# Example usage\n",
        "n_paths = 5000\n",
        "call_price = monte_carlo_call_option_price(S0, K, T, r, sigma, n_paths)\n",
        "print(f\"Monte Carlo Call Option Price: {call_price:.2f}\")"
      ],
      "metadata": {
        "colab": {
          "base_uri": "https://localhost:8080/"
        },
        "id": "rLDulXAkce1X",
        "outputId": "28671d5d-71db-4774-b97b-7d4afe95b84e"
      },
      "execution_count": 86,
      "outputs": [
        {
          "output_type": "stream",
          "name": "stdout",
          "text": [
            "Monte Carlo Call Option Price: 0.71\n"
          ]
        }
      ]
    },
    {
      "cell_type": "code",
      "source": [
        "# Example usage\n",
        "n_paths = 10000\n",
        "call_price = monte_carlo_call_option_price(S0, K, T, r, sigma, n_paths)\n",
        "print(f\"Monte Carlo Call Option Price: {call_price:.2f}\")"
      ],
      "metadata": {
        "colab": {
          "base_uri": "https://localhost:8080/"
        },
        "id": "aG2syC4UdqOr",
        "outputId": "12072645-c369-45ca-d425-5a7cb8f341be"
      },
      "execution_count": 87,
      "outputs": [
        {
          "output_type": "stream",
          "name": "stdout",
          "text": [
            "Monte Carlo Call Option Price: 0.71\n"
          ]
        }
      ]
    },
    {
      "cell_type": "code",
      "source": [
        "# Example usage\n",
        "n_paths = 50000\n",
        "call_price = monte_carlo_call_option_price(S0, K, T, r, sigma, n_paths)\n",
        "print(f\"Monte Carlo Call Option Price: {call_price:.2f}\")"
      ],
      "metadata": {
        "colab": {
          "base_uri": "https://localhost:8080/"
        },
        "id": "RhXRCmUbdqUP",
        "outputId": "7e32ccff-3e50-4302-f33f-35ebc29e6164"
      },
      "execution_count": 88,
      "outputs": [
        {
          "output_type": "stream",
          "name": "stdout",
          "text": [
            "Monte Carlo Call Option Price: 0.73\n"
          ]
        }
      ]
    },
    {
      "cell_type": "code",
      "source": [
        "# Example usage\n",
        "n_paths = 100000\n",
        "call_price = monte_carlo_call_option_price(S0, K, T, r, sigma, n_paths)\n",
        "print(f\"Monte Carlo Call Option Price: {call_price:.2f}\")"
      ],
      "metadata": {
        "colab": {
          "base_uri": "https://localhost:8080/"
        },
        "id": "8BHSuY-Pdx24",
        "outputId": "a54377e9-9a24-4812-dbf8-db3f014dc7a0"
      },
      "execution_count": 89,
      "outputs": [
        {
          "output_type": "stream",
          "name": "stdout",
          "text": [
            "Monte Carlo Call Option Price: 0.73\n"
          ]
        }
      ]
    }
  ]
}